{
 "cells": [
  {
   "cell_type": "markdown",
   "metadata": {},
   "source": [
    "**Задание 1.\n",
    "Сравните метрики hit_rate@k, precision@k.\n",
    "Какую метрику использовать предпочтительно и почему?\n",
    "Приведите пример 2-3 задач (опишите, что является клиентом, что товаром), \n",
    "в которой более уместно использовать метрику hit_rate?**"
   ]
  },
  {
   "cell_type": "markdown",
   "metadata": {},
   "source": [
    "hit_rate@k - был ли хотя бы 1 релевантный товар среди рекомендованных\n",
    "precision@k - доля релевантных товаров среди k рекомендованных = Какой % рекомендованных товаров юзер купил\n",
    "То есть, отличие precision@k от hit_rate@k, что мы видим не только правильно ли предложили, \n",
    "но и насколько правильно были предложены товары.\n",
    "Предпочтительней использовать метрику precision@k, поскольку она дает нам точное представление о доле релевантных рекомендаций, \n",
    "в то время как hit_rate@k просто показывает наличие или отсутствие таковых.\n",
    "\n",
    "\n",
    "Примеры, где можно использовать hit_rate:\n",
    "Пример 1. Онлайн-кинотеатр или сервис музыки\n",
    "Пользователь - зритель, товар - фильм/трек. Когда пользователь заходит в сервис, нам нужно удержать его еще на один фильм/трек, \n",
    "здесь и сейчас.\n",
    "Пример 2. Предложение однотипных дополнительных товаров к исходной покупке.\n",
    "Пользователь - покупка, товар - товар. Если человек покупает игровую мышку, то мы рекомендуем ему несколько игровых ковриков, \n",
    "и нас утроит что он купит только один.\n",
    "Пример 3. Сервис доставки еды предлагает доставить еду из нескольких ресторанов. \n",
    "Если клиент заинтересован в доставке хотя бы из одного предложенного ресторана, то он \n",
    "устанавливает приложение и делает заказ (hit_rate = 1, в противном случае hit_rate = 0)"
   ]
  },
  {
   "cell_type": "markdown",
   "metadata": {},
   "source": [
    "**Задание 2.\n",
    "В метрике NDCG@k мы используем логарифм в знаменателе. Как Вы думаете, почему именно логарифм? \n",
    "Какую функцию можно использовать вместо логарифма? \n",
    "Привидите пример метрик/подходов к предобработке данных/функций ошибок в ML, где также в логарифм.**"
   ]
  },
  {
   "cell_type": "markdown",
   "metadata": {},
   "source": [
    "Логарифм используется для того, чтобы сгладить разницу между соседними элементами, \n",
    "но все таки сохранить разницу между элементами, которые находятся далеко друг от друга. \n",
    "Вместо логарифма можно импользовать например корень квадратный или кубический или любую другую функцию, \n",
    "которая сглаживает рост линейной функции"
   ]
  },
  {
   "cell_type": "markdown",
   "metadata": {},
   "source": [
    "**Задание 3.\n",
    "Какие еще метрики (Вы можете вспомнить уже пройденные Вами или посмотреть в интернете) могут использоваться \n",
    "для рекомендательных систем (приведите примеры метрики и чем являются интеракции, чтобы она могла быть использована).**"
   ]
  },
  {
   "cell_type": "markdown",
   "metadata": {},
   "source": [
    "Cumulative gain at K (CG@K) — базовая метрика ранжирования, которая использует простую идею \n",
    "- чем релевантнее элементы в этом топе, тем лучше.\n",
    "Expected reciprocal rank (ERR) — пример метрики качества ранжирования, основанной на каскадной модели.\n",
    "\n",
    "Метрики на основе ранговой корреляции\n",
    "Ранговый коэффициент корреляции Кендэлла: основан на подсчете согласованных (и несогласованных) пар у перестановок — \n",
    "    пар элементов, котором перестановки присвоили одинаковый (разный) порядок.\n",
    "Ранговый коэффициент корреляции Спирмена: корреляция Пирсона, посчитанная на значениях рангов.\n",
    "    \n",
    "\n",
    "MAE - Среднее абсолютное отклонение (Интеракция - оценка по непрерывной шкале. Например, рейтинг товара);\n",
    "MSE - Среднеквадратичная ошибка (Интеракция - оценка по непрерывной шкале. Например, рейтинг товара);\n",
    "F1-Measure - Среднее гармоническое метрик Precision и Recall. Полезно, когда заранее невозможно сказать, \n",
    "какая из метрик важнее (Интеракция - бинарные данные. Например, купил товар или нет, \n",
    "                        поставил положительный или отрицательный отзыв);\n",
    "ROC AUC - Насколько высока концентрация интересных товаров в начале списка рекомендаций \n",
    "(Интеракция - бинарные данные. Например, купил товар или нет, поставил положительный или отрицательный отзыв);\n",
    "Spearman Correlation - Корреляция (Спирмена) реального и прогнозируемого рангов рекомендаций \n",
    "(Интеракция - любая. Оценивает правильность порядка рекомендаций);\n",
    "Fraction of Concordance Pairs - Насколько высока концентрация интересных товаров в начале списка рекомендаций \n",
    "(Интеракция - любая. Оценивает правильность порядка рекомендаций);"
   ]
  },
  {
   "cell_type": "markdown",
   "metadata": {},
   "source": [
    "**Задание 4.\n",
    "boughted = [1, 3, 5, 7, 9, 11]\n",
    "recommended = [2, 5, 7, 4, 11, 9, 8, 10, 12, 3]\n",
    "Посчитайте на этих данных pr@8, rec@8, AP@8, NDCG@8, RR@8, ERR@8 (expected reciprocal rank)**"
   ]
  },
  {
   "cell_type": "code",
   "execution_count": 1,
   "metadata": {},
   "outputs": [],
   "source": [
    "import pandas as pd\n",
    "import numpy as np"
   ]
  },
  {
   "cell_type": "code",
   "execution_count": 2,
   "metadata": {},
   "outputs": [],
   "source": [
    "boughted = [1, 3, 5, 7, 9, 11]\n",
    "recommended = [2, 5, 7, 4, 11, 9, 8, 10, 12, 3]"
   ]
  },
  {
   "cell_type": "code",
   "execution_count": 3,
   "metadata": {},
   "outputs": [],
   "source": [
    "# pr@8\n",
    "def precision_at_k(recommended_list, bought_list, k=5):\n",
    "    \n",
    "    bought_list = np.array(bought_list)\n",
    "    recommended_list = np.array(recommended_list)\n",
    "    \n",
    "    bought_list = bought_list  # Тут нет [:k] !!\n",
    "    recommended_list = recommended_list[:k]\n",
    "    \n",
    "    flags = np.isin(bought_list, recommended_list)\n",
    "    # print(flags)\n",
    "     \n",
    "    precision = flags.sum() / len(recommended_list)\n",
    "     \n",
    "    return precision"
   ]
  },
  {
   "cell_type": "code",
   "execution_count": 4,
   "metadata": {},
   "outputs": [
    {
     "data": {
      "text/plain": [
       "0.5"
      ]
     },
     "execution_count": 4,
     "metadata": {},
     "output_type": "execute_result"
    }
   ],
   "source": [
    "precision_at_k(recommended, boughted, k=8)"
   ]
  },
  {
   "cell_type": "code",
   "execution_count": 5,
   "metadata": {},
   "outputs": [],
   "source": [
    "# rec@8\n",
    "def recall_at_k(recommended_list, bought_list, k=5):\n",
    "    bought_list = np.array(bought_list)\n",
    "    recommended_list = np.array(recommended_list)[:k]\n",
    "    \n",
    "    flags = np.isin(bought_list, recommended_list)\n",
    "    \n",
    "    recall = flags.sum() / len(bought_list)\n",
    "    \n",
    "    return recall"
   ]
  },
  {
   "cell_type": "code",
   "execution_count": 6,
   "metadata": {},
   "outputs": [
    {
     "data": {
      "text/plain": [
       "0.6666666666666666"
      ]
     },
     "execution_count": 6,
     "metadata": {},
     "output_type": "execute_result"
    }
   ],
   "source": [
    "recall_at_k(recommended, boughted, k=8)"
   ]
  },
  {
   "cell_type": "code",
   "execution_count": 7,
   "metadata": {},
   "outputs": [],
   "source": [
    "# AP@8\n",
    "def ap_k(recommended_list, bought_list, k=5):\n",
    "    \n",
    "    bought_list = np.array(bought_list)\n",
    "    recommended_list = np.array(recommended_list)\n",
    "    \n",
    "    flags = np.isin(recommended_list, bought_list)\n",
    "    \n",
    "    if sum(flags) == 0:\n",
    "        return 0\n",
    "    \n",
    "    sum_ = 0\n",
    "    for i in range(1, k+1): \n",
    "        if flags[i] == True:\n",
    "            p_k = precision_at_k(recommended_list, bought_list, k=i)\n",
    "            sum_ += p_k\n",
    "            \n",
    "    result = sum_ / sum(flags)\n",
    "    \n",
    "    return result"
   ]
  },
  {
   "cell_type": "code",
   "execution_count": 8,
   "metadata": {},
   "outputs": [
    {
     "data": {
      "text/plain": [
       "0.32"
      ]
     },
     "execution_count": 8,
     "metadata": {},
     "output_type": "execute_result"
    }
   ],
   "source": [
    "ap_k(recommended, boughted, k=8)"
   ]
  },
  {
   "cell_type": "code",
   "execution_count": 9,
   "metadata": {},
   "outputs": [],
   "source": [
    "# NDCG@8\n",
    "def NDCG_at_k(recommended_list, bought_list, k):\n",
    "    recommended_list = recommended_list[:k]\n",
    "    if recommended_list[0] in bought_list:\n",
    "        dcg = 1\n",
    "    else: dcg = 0\n",
    "    for i in range(1, len(recommended_list)):\n",
    "        if recommended_list[i] in bought_list:\n",
    "            dcg += 1/np.log(i+1)\n",
    "       \n",
    "    idcg = 1\n",
    "    for i in range(1, k):\n",
    "        idcg += 1/np.log(i+1)  \n",
    "    ndcg = dcg / idcg\n",
    "    return ndcg"
   ]
  },
  {
   "cell_type": "code",
   "execution_count": 10,
   "metadata": {},
   "outputs": [
    {
     "data": {
      "text/plain": [
       "0.5653142737255068"
      ]
     },
     "execution_count": 10,
     "metadata": {},
     "output_type": "execute_result"
    }
   ],
   "source": [
    "NDCG_at_k(recommended, boughted, 8)"
   ]
  },
  {
   "cell_type": "code",
   "execution_count": 11,
   "metadata": {},
   "outputs": [],
   "source": [
    "# RR@8\n",
    "def reciprocal_rank_at_k(recommended_list, bought_list, k):\n",
    "    recommended_list = recommended_list[:k]\n",
    "    ranks = 0\n",
    "    for item_rec in recommended_list:\n",
    "        for i, item_bought in enumerate(bought_list):\n",
    "            if item_rec == item_bought:\n",
    "                ranks += 1 / (i+1)\n",
    "    return ranks / len(recommended_list)"
   ]
  },
  {
   "cell_type": "code",
   "execution_count": 12,
   "metadata": {},
   "outputs": [
    {
     "data": {
      "text/plain": [
       "0.11875"
      ]
     },
     "execution_count": 12,
     "metadata": {},
     "output_type": "execute_result"
    }
   ],
   "source": [
    "reciprocal_rank_at_k(recommended, boughted, 8)"
   ]
  },
  {
   "cell_type": "code",
   "execution_count": 13,
   "metadata": {},
   "outputs": [],
   "source": [
    "# ERR@8\n",
    "def expected_reciprocal_rank_at_k(recommended_list, k):\n",
    "    if k <= 0:\n",
    "        return -1\n",
    "    \n",
    "    if len(recommended_list) < k:\n",
    "        k = len(recommended_list)\n",
    "    \n",
    "    recommended_list = recommended_list[:k]\n",
    "    \n",
    "    grade = max(recommended_list)\n",
    "    prob = [0]\n",
    "    prob.extend((2**i-1)/2**grade for i in range(1, grade+1))\n",
    "    \n",
    "    return sum(1/i*prob[recommended_list[i-1]]*np.prod([1-prob[recommended_list[j-1]] for j in range(1, i)]) for i in range(1, k+1))"
   ]
  },
  {
   "cell_type": "code",
   "execution_count": 14,
   "metadata": {},
   "outputs": [
    {
     "data": {
      "text/plain": [
       "0.2141286747780282"
      ]
     },
     "execution_count": 14,
     "metadata": {},
     "output_type": "execute_result"
    }
   ],
   "source": [
    "expected_reciprocal_rank_at_k(recommended, 8)"
   ]
  },
  {
   "cell_type": "code",
   "execution_count": null,
   "metadata": {},
   "outputs": [],
   "source": []
  },
  {
   "cell_type": "code",
   "execution_count": null,
   "metadata": {},
   "outputs": [],
   "source": []
  },
  {
   "cell_type": "code",
   "execution_count": null,
   "metadata": {},
   "outputs": [],
   "source": []
  }
 ],
 "metadata": {
  "kernelspec": {
   "display_name": "Python 3",
   "language": "python",
   "name": "python3"
  },
  "language_info": {
   "codemirror_mode": {
    "name": "ipython",
    "version": 3
   },
   "file_extension": ".py",
   "mimetype": "text/x-python",
   "name": "python",
   "nbconvert_exporter": "python",
   "pygments_lexer": "ipython3",
   "version": "3.7.6"
  }
 },
 "nbformat": 4,
 "nbformat_minor": 4
}
